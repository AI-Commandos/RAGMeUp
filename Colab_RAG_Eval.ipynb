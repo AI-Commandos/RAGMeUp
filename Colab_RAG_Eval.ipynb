{
  "cells": [
    {
      "cell_type": "markdown",
      "source": [
        "# Prepare Colab environment"
      ],
      "metadata": {
        "id": "7qU5hiy9W3Wc"
      }
    },
    {
      "cell_type": "code",
      "execution_count": 5,
      "metadata": {
        "id": "AxBJHd2ckD0c"
      },
      "outputs": [],
      "source": [
        "# clone github repo\n",
        "!git clone https://github.com/sjoerdoffringa/RAGMeUp.git\n",
        "\n",
        "# delete torch from requirements for Colab\n",
        "!sed -i '/torch/d' RAGMeUp/server/requirements.txt\n",
        "\n",
        "# change ragas version\n",
        "!sed -i '/ragas/d' RAGMeUp/server/requirements.txt && echo \"ragas==0.2.6\" >> RAGMeUp/server/requirements.txt\n",
        "\n",
        "# install requirements\n",
        "!pip install -r RAGMeUp/server/requirements.txt"
      ]
    },
    {
      "cell_type": "code",
      "execution_count": 6,
      "metadata": {
        "id": "Ia_OPalmnHKo"
      },
      "outputs": [],
      "source": [
        "# set working directory in server folder\n",
        "%cd RAGMeUp/server\n",
        "\n",
        "# copy environment template\n",
        "!mv .env.evaltemplate .env"
      ]
    },
    {
      "cell_type": "code",
      "execution_count": 7,
      "metadata": {
        "id": "wX4rdS7RDRR2"
      },
      "outputs": [],
      "source": [
        "from huggingface_hub import login\n",
        "from dotenv import load_dotenv\n",
        "import os\n",
        "\n",
        "!git config --global credential.helper store\n",
        "\n",
        "# login by inserting token manually\n",
        "!huggingface-cli login"
      ]
    },
    {
      "cell_type": "markdown",
      "source": [
        "# Run scripts"
      ],
      "metadata": {
        "id": "JOHcyUi1XOV8"
      }
    },
    {
      "cell_type": "code",
      "source": [
        "# Run testset generation\n",
        "\n",
        "# load environment\n",
        "load_dotenv()\n",
        "\n",
        "# change environment variables\n",
        "os.environ['eval_qa_pairs'] = \"5\"\n",
        "os.environ['llm_model'] = \"meta-llama/Meta-Llama-3.1-8B-Instruct\"\n",
        "\n",
        "# run script\n",
        "!python eval_create_testset.py"
      ],
      "metadata": {
        "id": "O5sa6kRJWG8G"
      },
      "execution_count": 8,
      "outputs": []
    },
    {
      "cell_type": "code",
      "source": [
        "# Run RAG evaluation\n",
        "\n",
        "# load environment\n",
        "load_dotenv()\n",
        "\n",
        "# change environment variables\n",
        "os.environ[\"llm_model\"] = \"meta-llama/Meta-Llama-3.1-8B-Instruct\"\n",
        "os.environ[\"rerank_model\"] = \"cross-encoder/ms-marco-TinyBERT-L-2-v2\"\n",
        "os.environ[\"eval_testset_directory\"] = \"testsets/30QA/\"\n",
        "os.environ[\"eval_RAG_instance_name\"] = \"3.1-8B_TinyBERT\"\n",
        "\n",
        "# run script\n",
        "!python eval_evaluate_RAG.py"
      ],
      "metadata": {
        "id": "veM8VorXZWnA"
      },
      "execution_count": 9,
      "outputs": []
    }
  ],
  "metadata": {
    "accelerator": "GPU",
    "colab": {
      "gpuType": "T4",
      "provenance": []
    },
    "kernelspec": {
      "display_name": "Python 3",
      "name": "python3"
    },
    "language_info": {
      "name": "python"
    }
  },
  "nbformat": 4,
  "nbformat_minor": 0
}
